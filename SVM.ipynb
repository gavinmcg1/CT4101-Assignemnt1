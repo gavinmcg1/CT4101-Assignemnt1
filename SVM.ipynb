{
 "cells": [
  {
   "cell_type": "markdown",
   "id": "c6dbdc75",
   "metadata": {},
   "source": [
    "First I will load in my training and test datasets"
   ]
  },
  {
   "cell_type": "code",
   "execution_count": 2,
   "id": "2cfec383",
   "metadata": {},
   "outputs": [
    {
     "name": "stdout",
     "output_type": "stream",
     "text": [
      "  fire  year  temp  humidity  rainfall  drought_code  buildup_index  day  \\\n",
      "0   no  2015    28        59       0.0          8.06           3.47    1   \n",
      "1   no  2010    30        61       1.3          8.17           4.03    2   \n",
      "2   no  2009    26        83      13.1          8.08           3.59    3   \n",
      "3   no  2017    25        87       2.5          7.18           2.42    4   \n",
      "4   no  2014    28        77       0.0         14.98           4.63    5   \n",
      "\n",
      "   month  wind_speed  \n",
      "0      6          19  \n",
      "1      6          13  \n",
      "2      6          22  \n",
      "3      6          15  \n",
      "4      6          18  \n",
      "(154, 10)\n"
     ]
    }
   ],
   "source": [
    "import pandas as pd\n",
    "\n",
    "training_file = \"wildfires_training.csv\"\n",
    "test_file = \"wildfires_test.csv\"\n",
    "\n",
    "#details for wildfire dataset\n",
    "independent_cols = [ \"year\", \"temp\", \"humidity\", \"rainfall\", \"drought_code\", \"buildup_index\",  \"day\", \"month\", \"wind_speed\"]\n",
    "dependent_col = [\"fire\"]\n",
    "\n",
    "# Load in the training dataset\n",
    "training_data = pd.read_csv(training_file, usecols=independent_cols + dependent_col)\n",
    "print(training_data.head())\n",
    "print(training_data.shape)"
   ]
  },
  {
   "cell_type": "code",
   "execution_count": 3,
   "id": "64b1333e",
   "metadata": {},
   "outputs": [
    {
     "name": "stdout",
     "output_type": "stream",
     "text": [
      "   year  temp  humidity  rainfall  drought_code  buildup_index  day  month  \\\n",
      "0  2015    28        59       0.0          8.06           3.47    1      6   \n",
      "1  2010    30        61       1.3          8.17           4.03    2      6   \n",
      "2  2009    26        83      13.1          8.08           3.59    3      6   \n",
      "3  2017    25        87       2.5          7.18           2.42    4      6   \n",
      "4  2014    28        77       0.0         14.98           4.63    5      6   \n",
      "\n",
      "   wind_speed  \n",
      "0          19  \n",
      "1          13  \n",
      "2          22  \n",
      "3          15  \n",
      "4          18  \n",
      "(154, 9)\n"
     ]
    }
   ],
   "source": [
    "# set up a matrix X containing the independent variables from the training dataset\n",
    "X_train = training_data.loc[:,independent_cols]\n",
    "print(X_train.head())\n",
    "print(X_train.shape)"
   ]
  },
  {
   "cell_type": "code",
   "execution_count": 4,
   "id": "1e195a97",
   "metadata": {},
   "outputs": [
    {
     "name": "stdout",
     "output_type": "stream",
     "text": [
      "  fire\n",
      "0   no\n",
      "1   no\n",
      "2   no\n",
      "3   no\n",
      "4   no\n",
      "(154, 1)\n"
     ]
    }
   ],
   "source": [
    "# set up a vector y containing the dependent variable from the training dataset\n",
    "y_train = training_data.loc[:, dependent_col]\n",
    "print(y_train.head())\n",
    "print(y_train.shape)"
   ]
  },
  {
   "cell_type": "code",
   "execution_count": 5,
   "id": "8f3a72f2",
   "metadata": {},
   "outputs": [
    {
     "name": "stdout",
     "output_type": "stream",
     "text": [
      "  fire  year  temp  humidity  rainfall  drought_code  buildup_index  day  \\\n",
      "0   no  2015    33        68       4.5          9.12           5.09   19   \n",
      "1  yes  2009    28        56       0.0         38.17          21.21   12   \n",
      "2   no  2017    30        64       0.6         15.38           6.24   24   \n",
      "3   no  2007    23        74       8.3          7.36           2.27   14   \n",
      "4   no  2017    31        72       0.3         30.47           5.63    7   \n",
      "\n",
      "   month  wind_speed  \n",
      "0      6          16  \n",
      "1      6          18  \n",
      "2      9          19  \n",
      "3      9          28  \n",
      "4      9          17  \n",
      "(50, 10)\n"
     ]
    }
   ],
   "source": [
    "# load test data\n",
    "test_data = pd.read_csv(test_file)\n",
    "print(test_data.head())\n",
    "print(test_data.shape)"
   ]
  },
  {
   "cell_type": "code",
   "execution_count": 6,
   "id": "c274f64b",
   "metadata": {},
   "outputs": [
    {
     "name": "stdout",
     "output_type": "stream",
     "text": [
      "   year  temp  humidity  rainfall  drought_code  buildup_index  day  month  \\\n",
      "0  2015    33        68       4.5          9.12           5.09   19      6   \n",
      "1  2009    28        56       0.0         38.17          21.21   12      6   \n",
      "2  2017    30        64       0.6         15.38           6.24   24      9   \n",
      "3  2007    23        74       8.3          7.36           2.27   14      9   \n",
      "4  2017    31        72       0.3         30.47           5.63    7      9   \n",
      "\n",
      "   wind_speed  \n",
      "0          16  \n",
      "1          18  \n",
      "2          19  \n",
      "3          28  \n",
      "4          17  \n",
      "(50, 9)\n"
     ]
    }
   ],
   "source": [
    "# set up a matrix X containing the independent variables from the test dataset\n",
    "X_test = test_data.loc[:, independent_cols]\n",
    "print(X_test.head())\n",
    "print(X_test.shape)"
   ]
  },
  {
   "cell_type": "code",
   "execution_count": 7,
   "id": "d96d1335",
   "metadata": {},
   "outputs": [
    {
     "name": "stdout",
     "output_type": "stream",
     "text": [
      "  fire\n",
      "0   no\n",
      "1  yes\n",
      "2   no\n",
      "3   no\n",
      "4   no\n",
      "(50, 1)\n"
     ]
    }
   ],
   "source": [
    "# set up a vector y containing the dependent variable from the test dataset\n",
    "y_test = test_data.loc[:, dependent_col]\n",
    "print(y_test.head())\n",
    "print(y_test.shape)"
   ]
  },
  {
   "cell_type": "markdown",
   "id": "a4f1eaf5",
   "metadata": {},
   "source": [
    "Now I'll build the model with the default values for the hyperparameters for SVM"
   ]
  },
  {
   "cell_type": "code",
   "execution_count": 10,
   "id": "62f7176e",
   "metadata": {},
   "outputs": [
    {
     "name": "stdout",
     "output_type": "stream",
     "text": [
      "Training Accuracy: 0.512987012987013\n",
      "Test Accuracy: 0.56\n"
     ]
    },
    {
     "name": "stderr",
     "output_type": "stream",
     "text": [
      "c:\\Users\\gavin\\AppData\\Local\\Programs\\Python\\Python313\\Lib\\site-packages\\sklearn\\utils\\validation.py:1406: DataConversionWarning: A column-vector y was passed when a 1d array was expected. Please change the shape of y to (n_samples, ), for example using ravel().\n",
      "  y = column_or_1d(y, warn=True)\n"
     ]
    }
   ],
   "source": [
    "from sklearn.svm import SVC\n",
    "from sklearn import metrics\n",
    "\n",
    "# create a model with default hyperparameters for SVM C=1.0 kernel=rbf gamma=scale\n",
    "model = SVC()\n",
    "model.fit(X_train, y_train)\n",
    "\n",
    "# make predictions on training and test datasets\n",
    "pred_train = model.predict(X_train)\n",
    "pred_test = model.predict(X_test)\n",
    "\n",
    "# evaluate the model's performance\n",
    "print(\"Training Accuracy:\", metrics.accuracy_score(y_train, pred_train))\n",
    "print(\"Test Accuracy:\", metrics.accuracy_score(y_test, pred_test))"
   ]
  },
  {
   "cell_type": "markdown",
   "id": "f9510806",
   "metadata": {},
   "source": [
    "Now I will explore using different values of C and plot results"
   ]
  },
  {
   "cell_type": "code",
   "execution_count": null,
   "id": "8889f099",
   "metadata": {},
   "outputs": [],
   "source": []
  }
 ],
 "metadata": {
  "kernelspec": {
   "display_name": "Python 3",
   "language": "python",
   "name": "python3"
  },
  "language_info": {
   "codemirror_mode": {
    "name": "ipython",
    "version": 3
   },
   "file_extension": ".py",
   "mimetype": "text/x-python",
   "name": "python",
   "nbconvert_exporter": "python",
   "pygments_lexer": "ipython3",
   "version": "3.13.7"
  }
 },
 "nbformat": 4,
 "nbformat_minor": 5
}
